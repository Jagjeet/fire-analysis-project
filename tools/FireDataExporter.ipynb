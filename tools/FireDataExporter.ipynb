{
 "cells": [
  {
   "cell_type": "markdown",
   "id": "29a15a84-aeb4-4289-934c-2d6d8f22eb15",
   "metadata": {},
   "source": [
    "# Fire Data Exporter"
   ]
  },
  {
   "cell_type": "code",
   "execution_count": 2,
   "id": "a0dc343f-8ba4-4db9-9f79-53b1a4c9cf50",
   "metadata": {},
   "outputs": [],
   "source": [
    "import pandas as pd\n",
    "import sqlite3\n"
   ]
  },
  {
   "cell_type": "code",
   "execution_count": 7,
   "id": "69b3a6be-a51e-4dda-a78f-1fd90fcbabdd",
   "metadata": {},
   "outputs": [
    {
     "name": "stdout",
     "output_type": "stream",
     "text": [
      "         OBJECTID     FOD_ID             FPA_ID  FIRE_YEAR  FIPS_NAME  \\\n",
      "0               1          1         FS-1418826       2005     Plumas   \n",
      "1               2          2         FS-1418827       2004     Placer   \n",
      "2               3          3         FS-1418835       2004  El Dorado   \n",
      "3               4          4         FS-1418845       2004     Alpine   \n",
      "4               5          5         FS-1418847       2004     Alpine   \n",
      "...           ...        ...                ...        ...        ...   \n",
      "1880460   1880461  300348363  2015CAIRS29019636       2015       None   \n",
      "1880461   1880462  300348373  2015CAIRS29217935       2015       None   \n",
      "1880462   1880463  300348375  2015CAIRS28364460       2015       None   \n",
      "1880463   1880464  300348377  2015CAIRS29218079       2015       None   \n",
      "1880464   1880465  300348399  2015CAIRS26733926       2015       None   \n",
      "\n",
      "        COMPLEX_NAME                  FIRE_NAME  FIRE_SIZE  DISCOVERY_DATE  \\\n",
      "0               None                   FOUNTAIN       0.10       2453403.5   \n",
      "1               None                     PIGEON       0.25       2453137.5   \n",
      "2               None                      SLACK       0.10       2453156.5   \n",
      "3               None                       DEER       0.10       2453184.5   \n",
      "4               None                   STEVENOT       0.10       2453184.5   \n",
      "...              ...                        ...        ...             ...   \n",
      "1880460         None                   ODESSA 2       0.01       2457291.5   \n",
      "1880461         None                       None       0.20       2457300.5   \n",
      "1880462         None                       None       0.10       2457144.5   \n",
      "1880463         None                       None       2.00       2457309.5   \n",
      "1880464         None  BARKER BL  BIG_BEAR_LAKE_       0.10       2457095.5   \n",
      "\n",
      "        FIRE_CODE   STAT_CAUSE_DESCR  CONT_DATE STATE   LATITUDE   LONGITUDE  \\\n",
      "0            BJ8K      Miscellaneous  2453403.5    CA  40.036944 -121.005833   \n",
      "1            AAC0          Lightning  2453137.5    CA  38.933056 -120.404444   \n",
      "2            A32W     Debris Burning  2453156.5    CA  38.984167 -120.735556   \n",
      "3            None          Lightning  2453189.5    CA  38.559167 -119.913333   \n",
      "4            None          Lightning  2453189.5    CA  38.559167 -119.933056   \n",
      "...           ...                ...        ...   ...        ...         ...   \n",
      "1880460      None  Missing/Undefined  2457291.5    CA  40.481637 -122.389375   \n",
      "1880461      None      Miscellaneous        NaN    CA  37.617619 -120.938570   \n",
      "1880462      None  Missing/Undefined        NaN    CA  37.617619 -120.938570   \n",
      "1880463      None  Missing/Undefined        NaN    CA  37.672235 -120.898356   \n",
      "1880464      None      Miscellaneous        NaN    CA  34.263217 -116.830950   \n",
      "\n",
      "        DISCOVERY_TIME CONT_TIME  \n",
      "0                 1300      1730  \n",
      "1                 0845      1530  \n",
      "2                 1921      2024  \n",
      "3                 1600      1400  \n",
      "4                 1600      1200  \n",
      "...                ...       ...  \n",
      "1880460           1726      1843  \n",
      "1880461           0126      None  \n",
      "1880462           2052      None  \n",
      "1880463           2309      None  \n",
      "1880464           2128      None  \n",
      "\n",
      "[1880465 rows x 17 columns]\n"
     ]
    }
   ],
   "source": [
    "#Read the SQL Data\n",
    "con = sqlite3.connect(\"../Resources/FPA_FOD_20170508.sqlite\")\n",
    "fire_data = pd.read_sql_query(\"SELECT OBJECTID, FOD_ID, FPA_ID, FIRE_YEAR, FIPS_NAME, COMPLEX_NAME, FIRE_NAME, FIRE_SIZE, DISCOVERY_DATE, FIRE_CODE, STAT_CAUSE_DESCR, CONT_DATE, STATE, LATITUDE, LONGITUDE, DISCOVERY_TIME, CONT_TIME from Fires\", con)\n",
    "print(fire_data)\n",
    "con.close()"
   ]
  },
  {
   "cell_type": "code",
   "execution_count": 8,
   "id": "ca0a4ebc-b5c5-485f-b6e7-b4d04b03acf1",
   "metadata": {},
   "outputs": [],
   "source": [
    "fire_data.to_csv('../Resources/Fires.csv',index=False)"
   ]
  },
  {
   "cell_type": "code",
   "execution_count": null,
   "id": "00a67883-e0f4-40bb-81c3-ad96a6933989",
   "metadata": {},
   "outputs": [],
   "source": []
  }
 ],
 "metadata": {
  "kernelspec": {
   "display_name": "Python 3",
   "language": "python",
   "name": "python3"
  },
  "language_info": {
   "codemirror_mode": {
    "name": "ipython",
    "version": 3
   },
   "file_extension": ".py",
   "mimetype": "text/x-python",
   "name": "python",
   "nbconvert_exporter": "python",
   "pygments_lexer": "ipython3",
   "version": "3.8.8"
  }
 },
 "nbformat": 4,
 "nbformat_minor": 5
}
