{
 "cells": [
  {
   "cell_type": "code",
   "execution_count": 1,
   "id": "4017bb93",
   "metadata": {},
   "outputs": [],
   "source": [
    "import pandas as pd\n",
    "import numpy as np\n",
    "import requests\n",
    "import json\n",
    "import matplotlib.pyplot as plt\n",
    "import seaborn\n",
    "import scipy \n",
    "import sqlite3"
   ]
  },
  {
   "cell_type": "code",
   "execution_count": 2,
   "id": "4b87e3c0",
   "metadata": {
    "scrolled": true
   },
   "outputs": [],
   "source": [
    "#Get the relevant table from the SQL file\n",
    "#Data from https://www.kaggle.com/rtatman/188-million-us-wildfires\n",
    "# con = sqlite3.connect(\"./Fire Data/archive/FPA_FOD_20170508.sqlite\")\n",
    "# df = pd.read_sql_query(\"SELECT * from Fires\",con)\n",
    "\n",
    "# # Verify that result of SQL query is stored in the dataframe\n",
    "# print(df.head())\n",
    "\n"
   ]
  },
  {
   "cell_type": "code",
   "execution_count": 3,
   "id": "30b47349",
   "metadata": {},
   "outputs": [],
   "source": [
    "# #Save df to csv\n",
    "\n",
    "# df.to_csv(\"./FireTable.csv\", index=False, header=True)"
   ]
  },
  {
   "cell_type": "code",
   "execution_count": 4,
   "id": "df2c3a11",
   "metadata": {},
   "outputs": [],
   "source": [
    "#Pull the new file and save to a data frame\n",
    "\n",
    "# fire_file_one = \"./FireTable.csv\"\n",
    "\n",
    "# fire_file_one_df = pd.read_csv(fire_file_one, encoding=\"ISO-8859-1\")\n",
    "\n",
    "\n",
    "# fire_file_one_df.head()\n",
    "\n",
    "\n",
    "\n",
    "\n"
   ]
  },
  {
   "cell_type": "code",
   "execution_count": 5,
   "id": "f2c0c623",
   "metadata": {},
   "outputs": [],
   "source": [
    "# fire_file_one_df.columns"
   ]
  },
  {
   "cell_type": "code",
   "execution_count": 6,
   "id": "8e00f42d",
   "metadata": {},
   "outputs": [],
   "source": [
    "#reduced DF columns\n",
    "\n",
    "# df_reduced = pd.read_sql_query(\"Select OBJECTID, FOD_ID, FPA_ID, COMPLEX_NAME, FIRE_NAME,STAT_CAUSE_DESCR, FIRE_SIZE, DISCOVERY_DATE, STATE, FIRE_CODE from Fires\",con)\n",
    "\n",
    "# df_reduced.head()"
   ]
  },
  {
   "cell_type": "code",
   "execution_count": 7,
   "id": "8d188532",
   "metadata": {},
   "outputs": [],
   "source": [
    "# df_reduced.to_csv(\"./FireTable2.csv\", index=False, header=True)"
   ]
  },
  {
   "cell_type": "code",
   "execution_count": 8,
   "id": "a2d9fa5e",
   "metadata": {},
   "outputs": [
    {
     "name": "stderr",
     "output_type": "stream",
     "text": [
      "C:\\Users\\RobertW\\anaconda3\\lib\\site-packages\\IPython\\core\\interactiveshell.py:3165: DtypeWarning: Columns (9) have mixed types.Specify dtype option on import or set low_memory=False.\n",
      "  has_raised = await self.run_ast_nodes(code_ast.body, cell_name,\n"
     ]
    },
    {
     "data": {
      "text/html": [
       "<div>\n",
       "<style scoped>\n",
       "    .dataframe tbody tr th:only-of-type {\n",
       "        vertical-align: middle;\n",
       "    }\n",
       "\n",
       "    .dataframe tbody tr th {\n",
       "        vertical-align: top;\n",
       "    }\n",
       "\n",
       "    .dataframe thead th {\n",
       "        text-align: right;\n",
       "    }\n",
       "</style>\n",
       "<table border=\"1\" class=\"dataframe\">\n",
       "  <thead>\n",
       "    <tr style=\"text-align: right;\">\n",
       "      <th></th>\n",
       "      <th>OBJECTID</th>\n",
       "      <th>FOD_ID</th>\n",
       "      <th>FPA_ID</th>\n",
       "      <th>COMPLEX_NAME</th>\n",
       "      <th>FIRE_NAME</th>\n",
       "      <th>STAT_CAUSE_DESCR</th>\n",
       "      <th>FIRE_SIZE</th>\n",
       "      <th>DISCOVERY_DATE</th>\n",
       "      <th>STATE</th>\n",
       "      <th>FIRE_CODE</th>\n",
       "    </tr>\n",
       "  </thead>\n",
       "  <tbody>\n",
       "    <tr>\n",
       "      <th>0</th>\n",
       "      <td>1</td>\n",
       "      <td>1</td>\n",
       "      <td>FS-1418826</td>\n",
       "      <td>NaN</td>\n",
       "      <td>FOUNTAIN</td>\n",
       "      <td>Miscellaneous</td>\n",
       "      <td>0.10</td>\n",
       "      <td>2453403.5</td>\n",
       "      <td>CA</td>\n",
       "      <td>BJ8K</td>\n",
       "    </tr>\n",
       "    <tr>\n",
       "      <th>1</th>\n",
       "      <td>2</td>\n",
       "      <td>2</td>\n",
       "      <td>FS-1418827</td>\n",
       "      <td>NaN</td>\n",
       "      <td>PIGEON</td>\n",
       "      <td>Lightning</td>\n",
       "      <td>0.25</td>\n",
       "      <td>2453137.5</td>\n",
       "      <td>CA</td>\n",
       "      <td>AAC0</td>\n",
       "    </tr>\n",
       "    <tr>\n",
       "      <th>2</th>\n",
       "      <td>3</td>\n",
       "      <td>3</td>\n",
       "      <td>FS-1418835</td>\n",
       "      <td>NaN</td>\n",
       "      <td>SLACK</td>\n",
       "      <td>Debris Burning</td>\n",
       "      <td>0.10</td>\n",
       "      <td>2453156.5</td>\n",
       "      <td>CA</td>\n",
       "      <td>A32W</td>\n",
       "    </tr>\n",
       "    <tr>\n",
       "      <th>3</th>\n",
       "      <td>4</td>\n",
       "      <td>4</td>\n",
       "      <td>FS-1418845</td>\n",
       "      <td>NaN</td>\n",
       "      <td>DEER</td>\n",
       "      <td>Lightning</td>\n",
       "      <td>0.10</td>\n",
       "      <td>2453184.5</td>\n",
       "      <td>CA</td>\n",
       "      <td>NaN</td>\n",
       "    </tr>\n",
       "    <tr>\n",
       "      <th>4</th>\n",
       "      <td>5</td>\n",
       "      <td>5</td>\n",
       "      <td>FS-1418847</td>\n",
       "      <td>NaN</td>\n",
       "      <td>STEVENOT</td>\n",
       "      <td>Lightning</td>\n",
       "      <td>0.10</td>\n",
       "      <td>2453184.5</td>\n",
       "      <td>CA</td>\n",
       "      <td>NaN</td>\n",
       "    </tr>\n",
       "  </tbody>\n",
       "</table>\n",
       "</div>"
      ],
      "text/plain": [
       "   OBJECTID  FOD_ID      FPA_ID COMPLEX_NAME FIRE_NAME STAT_CAUSE_DESCR  \\\n",
       "0         1       1  FS-1418826          NaN  FOUNTAIN    Miscellaneous   \n",
       "1         2       2  FS-1418827          NaN    PIGEON        Lightning   \n",
       "2         3       3  FS-1418835          NaN     SLACK   Debris Burning   \n",
       "3         4       4  FS-1418845          NaN      DEER        Lightning   \n",
       "4         5       5  FS-1418847          NaN  STEVENOT        Lightning   \n",
       "\n",
       "   FIRE_SIZE  DISCOVERY_DATE STATE FIRE_CODE  \n",
       "0       0.10       2453403.5    CA      BJ8K  \n",
       "1       0.25       2453137.5    CA      AAC0  \n",
       "2       0.10       2453156.5    CA      A32W  \n",
       "3       0.10       2453184.5    CA       NaN  \n",
       "4       0.10       2453184.5    CA       NaN  "
      ]
     },
     "execution_count": 8,
     "metadata": {},
     "output_type": "execute_result"
    }
   ],
   "source": [
    "fire_file_reduced = \"./FireTable2.csv\"\n",
    "\n",
    "fire_file_reduced_df = pd.read_csv(fire_file_reduced, encoding=\"ISO-8859-1\")\n",
    "\n",
    "\n",
    "fire_file_reduced_df.head()\n"
   ]
  },
  {
   "cell_type": "code",
   "execution_count": 9,
   "id": "253cd5e6",
   "metadata": {
    "scrolled": true
   },
   "outputs": [
    {
     "data": {
      "text/plain": [
       "Debris Burning       429028\n",
       "Miscellaneous        323805\n",
       "Arson                281455\n",
       "Lightning            278468\n",
       "Missing/Undefined    166723\n",
       "Equipment Use        147612\n",
       "Campfire              76139\n",
       "Children              61167\n",
       "Smoking               52869\n",
       "Railroad              33455\n",
       "Powerline             14448\n",
       "Fireworks             11500\n",
       "Structure              3796\n",
       "Name: STAT_CAUSE_DESCR, dtype: int64"
      ]
     },
     "execution_count": 9,
     "metadata": {},
     "output_type": "execute_result"
    }
   ],
   "source": [
    "count_cause_of_fire = fire_file_reduced_df[\"STAT_CAUSE_DESCR\"].value_counts()\n",
    "count_cause_of_fire"
   ]
  },
  {
   "cell_type": "code",
   "execution_count": 10,
   "id": "e934d509",
   "metadata": {},
   "outputs": [
    {
     "data": {
      "text/plain": [
       "([<matplotlib.axis.XTick at 0x218420fb850>,\n",
       "  <matplotlib.axis.XTick at 0x218420fb820>,\n",
       "  <matplotlib.axis.XTick at 0x218420f23a0>,\n",
       "  <matplotlib.axis.XTick at 0x218427e9730>,\n",
       "  <matplotlib.axis.XTick at 0x218427e9c40>,\n",
       "  <matplotlib.axis.XTick at 0x218427f8190>,\n",
       "  <matplotlib.axis.XTick at 0x218427f86a0>,\n",
       "  <matplotlib.axis.XTick at 0x218427e97f0>,\n",
       "  <matplotlib.axis.XTick at 0x218427f8a00>,\n",
       "  <matplotlib.axis.XTick at 0x218427f8f10>,\n",
       "  <matplotlib.axis.XTick at 0x218427ff460>,\n",
       "  <matplotlib.axis.XTick at 0x218427ff970>,\n",
       "  <matplotlib.axis.XTick at 0x218427ffe80>],\n",
       " [Text(0, 0, 'Debris Burning'),\n",
       "  Text(1, 0, 'Miscellaneous'),\n",
       "  Text(2, 0, 'Arson'),\n",
       "  Text(3, 0, 'Lightning'),\n",
       "  Text(4, 0, 'Missing/Undefined'),\n",
       "  Text(5, 0, 'Equipment Use'),\n",
       "  Text(6, 0, 'Campfire'),\n",
       "  Text(7, 0, 'Children'),\n",
       "  Text(8, 0, 'Smoking'),\n",
       "  Text(9, 0, 'Railroad'),\n",
       "  Text(10, 0, 'Powerline'),\n",
       "  Text(11, 0, 'Fireworks'),\n",
       "  Text(12, 0, 'Structure')])"
      ]
     },
     "execution_count": 10,
     "metadata": {},
     "output_type": "execute_result"
    },
    {
     "data": {
      "image/png": "[encoded data removed]",
      "text/plain": [
       "<Figure size 432x288 with 1 Axes>"
      ]
     },
     "metadata": {
      "needs_background": "light"
     },
     "output_type": "display_data"
    }
   ],
   "source": [
    "x_axis = np.arange(len(count_cause_of_fire))\n",
    "plt.bar(x_axis, count_cause_of_fire, color='r', alpha=0.5, align=\"center\")\n",
    "tick_locations = [STAT_CAUSE_DESCR for STAT_CAUSE_DESCR in x_axis]\n",
    "plt.xticks(tick_locations,[\"Debris Burning\", \"Miscellaneous\", \"Arson\", \"Lightning\", \"Missing/Undefined\",\n",
    "                            \"Equipment Use\", \"Campfire\", \"Children\", \"Smoking\", \"Railroad\",\n",
    "                            \"Powerline\", \"Fireworks\", \"Structure\"], rotation=\"vertical\" )\n"
   ]
  },
  {
   "cell_type": "code",
   "execution_count": 11,
   "id": "f089bf1a",
   "metadata": {},
   "outputs": [
    {
     "data": {
      "image/png": "[encoded data removed]",
      "text/plain": [
       "<Figure size 432x288 with 1 Axes>"
      ]
     },
     "metadata": {
      "needs_background": "light"
     },
     "output_type": "display_data"
    }
   ],
   "source": [
    "# Create a group based on the values in the 'maker' column\n",
    "fire_cause_group = fire_file_reduced_df.groupby('STAT_CAUSE_DESCR')\n",
    "\n",
    "# Count how many times each maker appears in our group\n",
    "fire_cause_count = fire_cause_group['STAT_CAUSE_DESCR'].count()\n",
    "\n",
    "# Create a bar chart based off of the group series from before\n",
    "count_chart = fire_cause_count.plot(kind='bar')\n",
    "\n",
    "# Set the xlabel and ylabel using class methods\n",
    "count_chart.set_xlabel(\"Cause of Fire\")\n",
    "count_chart.set_ylabel(\"Number of Fires\")\n",
    "\n",
    "\n",
    "plt.tight_layout()\n",
    "plt.show()"
   ]
  },
  {
   "cell_type": "code",
   "execution_count": 12,
   "id": "9d999bfc",
   "metadata": {},
   "outputs": [
    {
     "data": {
      "image/png": "[encoded data removed]",
      "text/plain": [
       "<Figure size 432x288 with 1 Axes>"
      ]
     },
     "metadata": {
      "needs_background": "light"
     },
     "output_type": "display_data"
    }
   ],
   "source": [
    "#FIRE_SIZE = Estimate of acres within the final perimeter of the fire\n",
    "\n",
    "fire_cause_size_grouping = fire_file_reduced_df.groupby(['STAT_CAUSE_DESCR','FIRE_SIZE']).size().reset_index().groupby('STAT_CAUSE_DESCR')[[0]].mean()\n",
    "\n",
    "\n",
    "fire_cause_size_grouping_chart = fire_cause_size_grouping.plot(kind='bar',legend=0)\n",
    "fire_cause_size_grouping_chart.set_xlabel(\"Cause of Fire\")\n",
    "fire_cause_size_grouping_chart.set_ylabel(\"Average Fire Size (acres)\")\n",
    "\n",
    "\n",
    "plt.tight_layout()\n",
    "plt.show()"
   ]
  },
  {
   "cell_type": "code",
   "execution_count": 32,
   "id": "8f13f9f2",
   "metadata": {},
   "outputs": [
    {
     "data": {
      "image/png": "[encoded data removed]",
      "text/plain": [
       "<Figure size 432x288 with 1 Axes>"
      ]
     },
     "metadata": {
      "needs_background": "light"
     },
     "output_type": "display_data"
    }
   ],
   "source": [
    "total_fires_by_state = fire_file_reduced_df.groupby(['STATE','FOD_ID']).size().reset_index().groupby('STATE')[[0]].sum()\n",
    "\n",
    "total_fires_by_state_chart = total_fires_by_state.plot(kind='bar',legend=0,)\n",
    "plt.tick_params(axis='x', which='major', labelsize=7)\n",
    "\n",
    "total_fires_by_state_chart.set_xlabel(\"State\")\n",
    "total_fires_by_state_chart.set_ylabel(\"Total Number of Fires\")\n",
    "\n",
    "plt.tight_layout()\n",
    "plt.show()"
   ]
  },
  {
   "cell_type": "code",
   "execution_count": null,
   "id": "3f3e2b5e",
   "metadata": {},
   "outputs": [],
   "source": []
  }
 ],
 "metadata": {
  "kernelspec": {
   "display_name": "Python 3",
   "language": "python",
   "name": "python3"
  },
  "language_info": {
   "codemirror_mode": {
    "name": "ipython",
    "version": 3
   },
   "file_extension": ".py",
   "mimetype": "text/x-python",
   "name": "python",
   "nbconvert_exporter": "python",
   "pygments_lexer": "ipython3",
   "version": "3.8.8"
  }
 },
 "nbformat": 4,
 "nbformat_minor": 5
}
